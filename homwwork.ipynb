{
 "cells": [
  {
   "cell_type": "markdown",
   "metadata": {},
   "source": [
    "Data Loading & Initial Cleaning"
   ]
  },
  {
   "cell_type": "code",
   "execution_count": null,
   "metadata": {},
   "outputs": [
    {
     "name": "stdout",
     "output_type": "stream",
     "text": [
      "   step      type    amount     nameOrig  oldbalanceOrg  newbalanceOrig  \\\n",
      "0     1   PAYMENT   9839.64  C1231006815       170136.0       160296.36   \n",
      "1     1   PAYMENT   1864.28  C1666544295        21249.0            0.00   \n",
      "2     1  TRANSFER    181.00  C1305486145          181.0            0.00   \n",
      "3     1  CASH_OUT    181.00   C840083671          181.0            0.00   \n",
      "4     1   PAYMENT  11668.14  C2048537720        41554.0        29885.86   \n",
      "\n",
      "      nameDest  oldbalanceDest  newbalanceDest  isFraud  isFlaggedFraud  \n",
      "0  M1979787155             0.0             0.0        0               0  \n",
      "1  M2044282225             0.0             0.0        0               0  \n",
      "2   C553264065             0.0             0.0        1               0  \n",
      "3    C38997010         21182.0             0.0        1               0  \n",
      "4  M1230701703             0.0             0.0        0               0  \n",
      "Index(['step', 'type', 'amount', 'nameOrig', 'oldbalanceOrg', 'newbalanceOrig',\n",
      "       'nameDest', 'oldbalanceDest', 'newbalanceDest', 'isFraud',\n",
      "       'isFlaggedFraud'],\n",
      "      dtype='object')\n"
     ]
    }
   ],
   "source": [
    "import pandas as pd#data manupulation and analysis\n",
    "\n",
    "# Load dataset with explicit dtype specification to handle mixed types\n",
    "data = pd.read_csv(\"onlinefraud.csv\", dtype={'newbalanceOrig': str})  # Treat as string initially\n",
    "\n",
    "# Convert empty strings to 0 and then to float\n",
    "data['newbalanceOrig'] = data['newbalanceOrig'].replace(r'^\\s*$', '0', regex=True).astype(float)\n",
    "\n",
    "# Show first few rows\n",
    "print(data.head())\n",
    "\n",
    "# Show column names\n",
    "print(data.columns)"
   ]
  },
  {
   "cell_type": "markdown",
   "metadata": {},
   "source": []
  },
  {
   "cell_type": "markdown",
   "metadata": {},
   "source": [
    "Data Preprocessing & Feature Engineering"
   ]
  },
  {
   "cell_type": "markdown",
   "metadata": {},
   "source": [
    "Train-Test Split"
   ]
  },
  {
   "cell_type": "code",
   "execution_count": 2,
   "metadata": {},
   "outputs": [
    {
     "name": "stdout",
     "output_type": "stream",
     "text": [
      "   step  type    amount     nameOrig  oldbalanceOrg  newbalanceOrig  \\\n",
      "0     1     2   9839.64  C1231006815       170136.0       160296.36   \n",
      "1     1     2   1864.28  C1666544295        21249.0            0.00   \n",
      "2     1     4    181.00  C1305486145          181.0            0.00   \n",
      "3     1     1    181.00   C840083671          181.0            0.00   \n",
      "4     1     2  11668.14  C2048537720        41554.0        29885.86   \n",
      "\n",
      "      nameDest  oldbalanceDest  newbalanceDest  isFraud  isFlaggedFraud  \\\n",
      "0  M1979787155             0.0             0.0        0               0   \n",
      "1  M2044282225             0.0             0.0        0               0   \n",
      "2   C553264065             0.0             0.0        1               0   \n",
      "3    C38997010         21182.0             0.0        1               0   \n",
      "4  M1230701703             0.0             0.0        0               0   \n",
      "\n",
      "   balance_change  zero_balance_after  \n",
      "0         9839.64                   0  \n",
      "1        21249.00                   1  \n",
      "2          181.00                   1  \n",
      "3          181.00                   1  \n",
      "4        11668.14                   0  \n",
      "Dataset cleaned & ready for training! 🚀\n"
     ]
    }
   ],
   "source": [
    "import pandas as pd\n",
    "\n",
    "# Load dataset with proper type handling\n",
    "data = pd.read_csv(\"onlinefraud.csv\", dtype={\n",
    "    'newbalanceOrig': str,\n",
    "    'type': str\n",
    "})\n",
    "\n",
    "# Clean numeric columns\n",
    "numeric_cols = ['amount', 'oldbalanceOrg', 'newbalanceOrig', 'oldbalanceDest', 'newbalanceDest']\n",
    "for col in numeric_cols:\n",
    "    data[col] = data[col].replace(r'^\\s*$', '0', regex=True).astype(float)\n",
    "\n",
    "# Convert transaction types to numerical\n",
    "data['type'] = data['type'].map({\n",
    "    'CASH_OUT': 1,\n",
    "    'PAYMENT': 2,\n",
    "    'CASH_IN': 3,\n",
    "    'TRANSFER': 4,\n",
    "    'DEBIT': 5\n",
    "}).astype(int)\n",
    "\n",
    "# Add engineered features\n",
    "data['balance_change'] = data['oldbalanceOrg'] - data['newbalanceOrig']\n",
    "data['zero_balance_after'] = (data['newbalanceOrig'] == 0).astype(int)\n",
    "\n",
    "print(data.head())\n",
    "print(\"Dataset cleaned & ready for training! 🚀\")\n"
   ]
  },
  {
   "cell_type": "code",
   "execution_count": 3,
   "metadata": {},
   "outputs": [
    {
     "name": "stdout",
     "output_type": "stream",
     "text": [
      "Train shape: (5090096, 8)\n",
      "Test shape: (1272524, 8)\n"
     ]
    }
   ],
   "source": [
    "from sklearn.model_selection import train_test_split\n",
    "\n",
    "# Updated feature set with new features\n",
    "features = ['type', 'amount', 'oldbalanceOrg', 'newbalanceOrig', \n",
    "            'oldbalanceDest', 'newbalanceDest', 'balance_change', 'zero_balance_after']\n",
    "\n",
    "X = data[features]\n",
    "y = data['isFraud']\n",
    "\n",
    "xtrain, xtest, ytrain, ytest = train_test_split(X, y, test_size=0.2, random_state=42, stratify=y)\n",
    "\n",
    "print(f\"Train shape: {xtrain.shape}\")\n",
    "print(f\"Test shape: {xtest.shape}\")"
   ]
  },
  {
   "cell_type": "markdown",
   "metadata": {},
   "source": [
    "Model Training (Random Forest)"
   ]
  },
  {
   "cell_type": "code",
   "execution_count": null,
   "metadata": {},
   "outputs": [
    {
     "name": "stdout",
     "output_type": "stream",
     "text": [
      "Model Accuracy: 1.00\n"
     ]
    }
   ],
   "source": [
    "from sklearn.ensemble import RandomForestClassifier\n",
    "#it provides a powerful collection of ensemble methods that combine multiple machine learning \n",
    "# models to improve prediction accuracy and robustness, often outperforming individual models. \n",
    "from sklearn.impute import SimpleImputer\n",
    "\n",
    "# Initialize and train model\n",
    "model = RandomForestClassifier(n_estimators=100, class_weight='balanced', random_state=42)\n",
    "\n",
    "# Train the model\n",
    "model.fit(xtrain, ytrain)\n",
    "\n",
    "# Evaluate the model\n",
    "accuracy = model.score(xtest, ytest)\n",
    "print(f\"Model Accuracy: {accuracy:.2f}\")"
   ]
  },
  {
   "cell_type": "markdown",
   "metadata": {},
   "source": [
    "Model Evaluation"
   ]
  },
  {
   "cell_type": "code",
   "execution_count": null,
   "metadata": {},
   "outputs": [
    {
     "name": "stdout",
     "output_type": "stream",
     "text": [
      "              precision    recall  f1-score   support\n",
      "\n",
      "           0       1.00      1.00      1.00   1270881\n",
      "           1       0.96      0.80      0.87      1643\n",
      "\n",
      "    accuracy                           1.00   1272524\n",
      "   macro avg       0.98      0.90      0.94   1272524\n",
      "weighted avg       1.00      1.00      1.00   1272524\n",
      "\n",
      "Confusion Matrix:\n",
      "[[1270824      57]\n",
      " [    324    1319]]\n",
      "\n",
      "Sample Fraud Probabilities:\n",
      "[0. 0. 0. 0. 0. 0. 0. 0. 0. 0.]\n"
     ]
    }
   ],
   "source": [
    "from sklearn.metrics import classification_report, confusion_matrix#a powerful tool for evaluating the performance of machine learning models\n",
    "\n",
    "\n",
    "# Predict class labels\n",
    "ypred = model.predict(xtest)\n",
    "\n",
    "# Predict fraud probabilities\n",
    "yprob = model.predict_proba(xtest)[:, 1]  # Probability of fraud (class 1)\n",
    "\n",
    "# Show classification report\n",
    "print(classification_report(ytest, ypred))\n",
    "\n",
    "# Show confusion matrix\n",
    "print(\"Confusion Matrix:\")\n",
    "print(confusion_matrix(ytest, ypred))\n",
    "\n",
    "# Show first 10 fraud probabilities\n",
    "print(\"\\nSample Fraud Probabilities:\")\n",
    "print(yprob[:10])"
   ]
  },
  {
   "cell_type": "markdown",
   "metadata": {},
   "source": [
    "Fraud Prediction Example"
   ]
  },
  {
   "cell_type": "code",
   "execution_count": 6,
   "metadata": {},
   "outputs": [
    {
     "name": "stdout",
     "output_type": "stream",
     "text": [
      "Prediction: Fraud\n",
      "Fraud Probability: 99.00%\n",
      "⚠️ Warning: Account completely emptied\n"
     ]
    }
   ],
   "source": [
    "import numpy as np\n",
    "import pandas as pd\n",
    "\n",
    "# Example transaction (Modify values as needed)\n",
    "transaction_data = {\n",
    "    'type': 4,               # CASH_OUT\n",
    "    'amount': 181.00,\n",
    "    'oldbalanceOrg': 181.00,\n",
    "    'newbalanceOrig': 0.00,\n",
    "    'oldbalanceDest': 0.00,\n",
    "    'newbalanceDest': 0.00\n",
    "}\n",
    "\n",
    "# Calculate the additional features that were used in training\n",
    "transaction_data['balance_change'] = transaction_data['oldbalanceOrg'] - transaction_data['newbalanceOrig']\n",
    "transaction_data['zero_balance_after'] = 1 if transaction_data['newbalanceOrig'] == 0 else 0\n",
    "\n",
    "# Create DataFrame with ALL features in the EXACT SAME ORDER as during training\n",
    "feature_names = [\n",
    "    'type', \n",
    "    'amount', \n",
    "    'oldbalanceOrg', \n",
    "    'newbalanceOrig',\n",
    "    'oldbalanceDest', \n",
    "    'newbalanceDest',\n",
    "    'balance_change',\n",
    "    'zero_balance_after'\n",
    "]\n",
    "\n",
    "input_data = np.array([[\n",
    "    transaction_data['type'],\n",
    "    transaction_data['amount'],\n",
    "    transaction_data['oldbalanceOrg'],\n",
    "    transaction_data['newbalanceOrig'],\n",
    "    transaction_data['oldbalanceDest'],\n",
    "    transaction_data['newbalanceDest'],\n",
    "    transaction_data['balance_change'],\n",
    "    transaction_data['zero_balance_after']\n",
    "]])\n",
    "\n",
    "input_df = pd.DataFrame(input_data, columns=feature_names)\n",
    "\n",
    "# Predict fraud or legit\n",
    "prediction = model.predict(input_df)[0]\n",
    "probability = model.predict_proba(input_df)[0][1]\n",
    "\n",
    "# Print the result\n",
    "print(\"Prediction:\", \"Fraud\" if prediction == 1 else \"Legit\")\n",
    "print(f\"Fraud Probability: {probability * 100:.2f}%\")\n",
    "\n",
    "# Print warning flags if suspicious\n",
    "if transaction_data['zero_balance_after']:\n",
    "    print(\"⚠️ Warning: Account completely emptied\")\n",
    "if transaction_data['balance_change'] != transaction_data['amount']:\n",
    "    print(\"⚠️ Warning: Discrepancy in amount and balance change\")"
   ]
  },
  {
   "cell_type": "markdown",
   "metadata": {},
   "source": [
    "Save the Trained Model"
   ]
  },
  {
   "cell_type": "code",
   "execution_count": 7,
   "metadata": {},
   "outputs": [
    {
     "name": "stdout",
     "output_type": "stream",
     "text": [
      "✅ Model saved successfully!\n"
     ]
    }
   ],
   "source": [
    "import joblib\n",
    "\n",
    "# Save the trained model\n",
    "joblib.dump(model, \"fraud_detection_model.pkl\")\n",
    "print(\"✅ Model saved successfully!\")"
   ]
  },
  {
   "cell_type": "code",
   "execution_count": null,
   "metadata": {},
   "outputs": [],
   "source": []
  }
 ],
 "metadata": {
  "kernelspec": {
   "display_name": "Python 3",
   "language": "python",
   "name": "python3"
  },
  "language_info": {
   "codemirror_mode": {
    "name": "ipython",
    "version": 3
   },
   "file_extension": ".py",
   "mimetype": "text/x-python",
   "name": "python",
   "nbconvert_exporter": "python",
   "pygments_lexer": "ipython3",
   "version": "3.12.4"
  }
 },
 "nbformat": 4,
 "nbformat_minor": 2
}
